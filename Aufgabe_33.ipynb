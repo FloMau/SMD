{
 "cells": [
  {
   "cell_type": "markdown",
   "metadata": {},
   "source": [
    "# Aufgabe 33: Zwei Histogramme\n",
    "### a) \n",
    "Die Zählraten der einzelnen Bins folgen der Poissonverteilung. Der Erwartungswert pro Bin ist jeweils $N\\cdot p_i$ bzw. $M\\cdot p_i$. \n",
    "\n",
    "Nullhypothese: Beide Histogramme repräsentieren Zufallszahlen der gleichen Verteilung.  \n",
    "Also sind die PDFs der Bins der jeweiligen Histogramme\n",
    "$$ \\frac{\\exp(-Np_i)(Np_i)^{n_i}}{n_i!} $$ bzw. $$ \\frac{\\exp(-Mp_i)(Mp_i)^{m_i}}{m_i!} $$"
   ]
  },
  {
   "cell_type": "markdown",
   "metadata": {},
   "source": [
    "### b)\n",
    "Die Likelihoodfunktion für die Nullhypothese lautet:\n",
    "$$ L({p_i}) = \\frac{\\exp(-N{p}_i)(N{p}_i)^{n_i}}{n_i!} \\cdot \\frac{\\exp(-M{p}_i)(M{p}_i)^{m_i}}{m_i!} $$\n",
    "\n",
    "Die Log-Likelihood-Funktion lautet:\n",
    "$$ \\log(L(p_i)) = -N{p}_i - M{p}_i + n_i\\cdot\\log(Np_i) + m_i\\cdot\\log(Mp_i) - \\log(n_i!) - \\log(m_i!) $$\n",
    "\n",
    "$$\\frac{d}{dp_i} \\log(L(p_i)) = 0 $$\n",
    "$$\\iff -N -M + \\frac{n_i}{p_i} + \\frac{m_i}{p_i} = 0 $$\n",
    "Somit lautet der Schätzer:\n",
    "$$\\hat{p}_i = \\frac{n+m}{N+M}$$"
   ]
  },
  {
   "cell_type": "markdown",
   "metadata": {},
   "source": [
    "### c)\n",
    "Die Prüfgröße für den $\\chi^2$-Test lautet: $\\chi^2 = \\sum_{i=1}^r \\frac{(n_i - N\\hat{p}_i)^2}{N\\hat{p}_i} + \\sum_{i=1}^r \\frac{(m_i - M\\hat{p}_i)^2}{M\\hat{p}_i} $"
   ]
  },
  {
   "cell_type": "markdown",
   "metadata": {},
   "source": [
    "### d)\n",
    "\n",
    "\\# Freiheitsgrade $=$ \\# Datenpukte $-$ \\# Fitparameter\n",
    "\n",
    "\\# Datenpunkte $=$ 2r  \n",
    "\\# Fitparameter $=$ 1 für N, 1 für M, (r-1) für $p_i$.  \n",
    "Ein Wert für $p_i$ folgt aus der Bedingung, dass die Summe 1 sein muss.\n",
    "\n",
    "Somit hat die $\\chi^2$-Verteilung (r-1) Freiheitsgrade.\n",
    "\n",
    "Für kleine Bininhalte folgt die Teststatistik nicht mehr der Chi-Qhadrat-Verteilung, da dafür Gauß-verteilte Zufallszahlen benötigt werden und die Poisson-verteilten Bineinträge nur für sehr große Counts näherungsweise Gauß-verteilt sind."
   ]
  },
  {
   "cell_type": "markdown",
   "metadata": {},
   "source": [
    "### e) \n",
    "\n",
    "$\\chi^2 = \\frac{1}{NM} \\sum_{i=1}^r \\frac{(Nm_i-Mn_i)^2}{n_i + m_i} $"
   ]
  },
  {
   "cell_type": "code",
   "execution_count": 2,
   "metadata": {},
   "outputs": [
    {
     "name": "stdout",
     "output_type": "stream",
     "text": [
      "Die Teststatistik hat den Wert 8.429160409693589\n"
     ]
    }
   ],
   "source": [
    "import numpy as np\n",
    "\n",
    "n = np.array([111,188,333])\n",
    "m = np.array([15,36,30])\n",
    "N = sum(n)\n",
    "M = sum(m)\n",
    "\n",
    "chi_2 = 1/(N*M)* np.sum( (N*m - M*n)**2/(n+m) )\n",
    "print('Die Teststatistik hat den Wert', chi_2)"
   ]
  },
  {
   "cell_type": "markdown",
   "metadata": {},
   "source": [
    "Hier haben wir also zwei Freiheitsgrade.  \n",
    "Für $\\alpha = 0.1$ ist $\\chi^2=4,61$,  \n",
    "für $\\alpha = 0.05$ ist $\\chi^2=5,99$,  \n",
    "für $\\alpha = 0.01$ ist $\\chi= 9,21.$  \n",
    "Das heißt, bei einer Signifikanz von <5% folgen die Zufallszahlen derselben Verteilung."
   ]
  },
  {
   "cell_type": "code",
   "execution_count": 7,
   "metadata": {},
   "outputs": [
    {
     "data": {
      "text/plain": [
       "[<matplotlib.lines.Line2D at 0x159b86db4a8>]"
      ]
     },
     "execution_count": 7,
     "metadata": {},
     "output_type": "execute_result"
    },
    {
     "data": {
      "image/png": "[encoded data removed]",
      "text/plain": [
       "<Figure size 432x288 with 1 Axes>"
      ]
     },
     "metadata": {
      "needs_background": "light"
     },
     "output_type": "display_data"
    }
   ],
   "source": [
    "import matplotlib.pyplot as plt\n",
    "plt.plot(n, 'rx')\n",
    "plt.plot(m, 'bx')"
   ]
  }
 ],
 "metadata": {
  "kernelspec": {
   "display_name": "Python 3",
   "language": "python",
   "name": "python3"
  },
  "language_info": {
   "codemirror_mode": {
    "name": "ipython",
    "version": 3
   },
   "file_extension": ".py",
   "mimetype": "text/x-python",
   "name": "python",
   "nbconvert_exporter": "python",
   "pygments_lexer": "ipython3",
   "version": "3.6.8"
  }
 },
 "nbformat": 4,
 "nbformat_minor": 2
}
