{
 "cells": [
  {
   "cell_type": "markdown",
   "metadata": {},
   "source": [
    "# Aufgabe 34: Kolmogorow–Smirnow-Test "
   ]
  },
  {
   "cell_type": "markdown",
   "metadata": {},
   "source": [
    "### a) Welche Werte müssen Sie für 𝜇 und 𝜎 einer Gauß-Verteilung wählen, damit sie einer Poisson-Verteilung mit Erwartungswert 𝜆 möglichst ähnlich ist?\n",
    "\n",
    "\n",
    "Es muss gelten: $$ \\mu = \\lambda, \\\\\n",
    "\\sigma = \\sqrt{\\lambda}. $$"
   ]
  },
  {
   "cell_type": "markdown",
   "metadata": {},
   "source": [
    "### b)  Implementieren Sie den Kolmogorow–Smirnow-Test für gebinnte Daten."
   ]
  },
  {
   "cell_type": "code",
   "execution_count": 1,
   "metadata": {},
   "outputs": [],
   "source": [
    "import numpy as np\n",
    "import matplotlib.pyplot as plt"
   ]
  },
  {
   "cell_type": "code",
   "execution_count": 2,
   "metadata": {},
   "outputs": [],
   "source": [
    "def KS_Zweistichprobentest(X, Y, alpha, lambdasch):\n",
    "    \n",
    "    bins = np.linspace(lambdasch - 5*np.sqrt(lambdasch), lambdasch + 5*np.sqrt(lambdasch), 101)\n",
    "    hist_X = np.histogram(X, bins=bins, density=True)[0]\n",
    "    hist_Y = np.histogram(Y, bins= bins, density=True)[0]\n",
    "    \n",
    "    S_X = np.cumsum(hist_X*(bins[1]-bins[0])) #CDF, entspricht \\int f(x)dx\n",
    "    S_Y = np.cumsum(hist_Y*(bins[1]-bins[0])) \n",
    "    \n",
    "    d_max = max(np.abs(S_X - S_Y))\n",
    "    K_alpha = np.sqrt( np.log(2/alpha)/2 )\n",
    "    HS = np.sqrt( len(X)*len(Y) / (len(X) + len(Y)) )*d_max\n",
    "    if HS > K_alpha:\n",
    "        return False\n",
    "    else:\n",
    "        return True"
   ]
  },
  {
   "cell_type": "code",
   "execution_count": 3,
   "metadata": {},
   "outputs": [],
   "source": [
    "def KS_Gauss_Poisson(lambdasch, alpha, length):\n",
    "    np.random.seed(42)\n",
    "    gauss = np.random.normal(lambdasch, np.sqrt(lambdasch), length).round(0)\n",
    "    poisson = np.random.poisson(lambdasch, length)\n",
    "    return KS_Zweistichprobentest(gauss, poisson, alpha, lambdasch)"
   ]
  },
  {
   "cell_type": "markdown",
   "metadata": {},
   "source": [
    "### c)"
   ]
  },
  {
   "cell_type": "code",
   "execution_count": 4,
   "metadata": {},
   "outputs": [
    {
     "name": "stdout",
     "output_type": "stream",
     "text": [
      "Herzlichen Glückwunsch, du Hurensohn!!! \n",
      "Ab etwa Lambda = 9 stimmen die Verteilungen für alpha = 0.05 überein.\n"
     ]
    }
   ],
   "source": [
    "lambdasch = 1\n",
    "Alpha = 5e-2\n",
    "while not KS_Gauss_Poisson(lambdasch, Alpha, 10000):\n",
    "    lambdasch += 1\n",
    "print('Herzlichen Glückwunsch, du Hurensohn!!! \\nAb etwa Lambda = {} stimmen die Verteilungen für alpha = {} überein.'.format(lambdasch, Alpha))"
   ]
  },
  {
   "cell_type": "markdown",
   "metadata": {},
   "source": [
    "Das heißt also:  \n",
    "Wir lehnen die Hypothese, dass die beiden Verteilungen gleich sind, bis einschließlich $\\lambda = 51$ mit einer Signifikanz (Typ-I-Fehlerrate) von 5% ab."
   ]
  },
  {
   "cell_type": "markdown",
   "metadata": {},
   "source": [
    "### d) "
   ]
  },
  {
   "cell_type": "code",
   "execution_count": 5,
   "metadata": {},
   "outputs": [
    {
     "name": "stdout",
     "output_type": "stream",
     "text": [
      "Ab etwa Lambda = 6 stimmen die Verteilungen für alpha = 0.025 überein.\n"
     ]
    }
   ],
   "source": [
    "lambdasch = 1\n",
    "Alpha = 2.5e-2\n",
    "while not KS_Gauss_Poisson(lambdasch, Alpha, 10000):\n",
    "    lambdasch += 1\n",
    "print('Ab etwa Lambda = {} stimmen die Verteilungen für alpha = {} überein.'.format(lambdasch, Alpha))"
   ]
  },
  {
   "cell_type": "code",
   "execution_count": 6,
   "metadata": {},
   "outputs": [
    {
     "name": "stdout",
     "output_type": "stream",
     "text": [
      "Ab etwa Lambda = 4 stimmen die Verteilungen für alpha = 0.001 überein.\n"
     ]
    }
   ],
   "source": [
    "lambdasch = 1\n",
    "Alpha = 0.1e-2\n",
    "while not KS_Gauss_Poisson(lambdasch, Alpha, 10000):\n",
    "    lambdasch += 1\n",
    "print('Ab etwa Lambda = {} stimmen die Verteilungen für alpha = {} überein.'.format(lambdasch, Alpha))"
   ]
  },
  {
   "cell_type": "markdown",
   "metadata": {},
   "source": [
    "Bei kleinerer Signifikanz lehnen wir den Test also schon für kleinere $\\lambda$ nicht mehr ab.  \n",
    "Achtung: Das heißt nicht, dass sich die Gauß- und die Poisson-Verteilung für kleinere $\\lambda$ weniger unterscheiden, was auch an den folgenden Plots gesehen werden kann.  \n",
    "Grund des schnelleren Annehmens der Nullhypothese bei kleinerer Signifikanz ist, dass es sich hier um einen Verwerfungstest mit vorgegebener Signifikanz handelt."
   ]
  },
  {
   "cell_type": "code",
   "execution_count": 9,
   "metadata": {},
   "outputs": [
    {
     "data": {
      "text/plain": [
       "<matplotlib.legend.Legend at 0x1e727abf128>"
      ]
     },
     "execution_count": 9,
     "metadata": {},
     "output_type": "execute_result"
    },
    {
     "data": {
      "image/png": "[encoded data removed]",
      "text/plain": [
       "<Figure size 432x288 with 1 Axes>"
      ]
     },
     "metadata": {
      "needs_background": "light"
     },
     "output_type": "display_data"
    }
   ],
   "source": [
    "lambdasch = 3\n",
    "length = 10000\n",
    "\n",
    "np.random.seed(42)\n",
    "gauss = np.random.normal(lambdasch, np.sqrt(lambdasch), length).round(0)\n",
    "poisson = np.random.poisson(lambdasch, length)\n",
    "\n",
    "bins = np.linspace(lambdasch - 5*np.sqrt(lambdasch), lambdasch + 5*np.sqrt(lambdasch), 101)\n",
    "hist_X = np.histogram(gauss, bins=bins, density=True)[0]\n",
    "hist_Y = np.histogram(poisson, bins= bins, density=True)[0]\n",
    "\n",
    "S_X = np.cumsum(hist_X*(bins[1]-bins[0])) #CDF\n",
    "S_Y = np.cumsum(hist_Y*(bins[1]-bins[0])) #CDF\n",
    "\n",
    "plt.plot(S_X, label='Gauß')\n",
    "plt.plot(S_Y, label='Poisson')\n",
    "plt.legend()"
   ]
  },
  {
   "cell_type": "code",
   "execution_count": 10,
   "metadata": {},
   "outputs": [
    {
     "data": {
      "text/plain": [
       "<matplotlib.legend.Legend at 0x1e727b65278>"
      ]
     },
     "execution_count": 10,
     "metadata": {},
     "output_type": "execute_result"
    },
    {
     "data": {
      "image/png": "[encoded data removed]",
      "text/plain": [
       "<Figure size 432x288 with 1 Axes>"
      ]
     },
     "metadata": {
      "needs_background": "light"
     },
     "output_type": "display_data"
    }
   ],
   "source": [
    "lambdasch = 300\n",
    "\n",
    "np.random.seed(42)\n",
    "gauss = np.random.normal(lambdasch, np.sqrt(lambdasch), length).round(0)\n",
    "poisson = np.random.poisson(lambdasch, length)\n",
    "\n",
    "bins = np.linspace(lambdasch - 5*np.sqrt(lambdasch), lambdasch + 5*np.sqrt(lambdasch), 101)\n",
    "hist_X = np.histogram(gauss, bins=bins, density=True)[0]\n",
    "hist_Y = np.histogram(poisson, bins= bins, density=True)[0]\n",
    "\n",
    "S_X = np.cumsum(hist_X*(bins[1]-bins[0])) #CDF\n",
    "S_Y = np.cumsum(hist_Y*(bins[1]-bins[0])) #CDF\n",
    "\n",
    "plt.plot(S_X, label='Gauß')\n",
    "plt.plot(S_Y, label='Poisson')\n",
    "plt.legend()"
   ]
  }
 ],
 "metadata": {
  "kernelspec": {
   "display_name": "Python 3",
   "language": "python",
   "name": "python3"
  },
  "language_info": {
   "codemirror_mode": {
    "name": "ipython",
    "version": 3
   },
   "file_extension": ".py",
   "mimetype": "text/x-python",
   "name": "python",
   "nbconvert_exporter": "python",
   "pygments_lexer": "ipython3",
   "version": "3.6.8"
  }
 },
 "nbformat": 4,
 "nbformat_minor": 2
}
