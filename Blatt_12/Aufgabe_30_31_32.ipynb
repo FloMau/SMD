{
 "cells": [
  {
   "cell_type": "code",
   "execution_count": 1,
   "metadata": {},
   "outputs": [],
   "source": [
    "import numpy as np\n",
    "import math\n",
    "from scipy.optimize import minimize"
   ]
  },
  {
   "cell_type": "markdown",
   "metadata": {},
   "source": [
    "# Aufgabe 30"
   ]
  },
  {
   "cell_type": "code",
   "execution_count": 4,
   "metadata": {},
   "outputs": [
    {
     "data": {
      "text/plain": [
       "3.371643449185285"
      ]
     },
     "execution_count": 4,
     "metadata": {},
     "output_type": "execute_result"
    }
   ],
   "source": [
    "240*np.log(200) + 320*np.log(160) - 560*np.log(175)"
   ]
  },
  {
   "cell_type": "code",
   "execution_count": 24,
   "metadata": {},
   "outputs": [
    {
     "data": {
      "text/plain": [
       "19.161542412255585"
      ]
     },
     "execution_count": 24,
     "metadata": {},
     "output_type": "execute_result"
    }
   ],
   "source": [
    "-2*(150*np.log(1/500) - 320*np.log(320) + 470*np.log(470/1.3))"
   ]
  },
  {
   "cell_type": "markdown",
   "metadata": {},
   "source": [
    "# Aufgabe 31: Ballon-Experiment"
   ]
  },
  {
   "cell_type": "markdown",
   "metadata": {},
   "source": [
    "### a) \n",
    "Die Maximum-Likelihood-Methode liefert den Mittelwert als wahrscheinlichsten Wert."
   ]
  },
  {
   "cell_type": "code",
   "execution_count": 48,
   "metadata": {},
   "outputs": [
    {
     "data": {
      "text/plain": [
       "4218.0"
      ]
     },
     "execution_count": 48,
     "metadata": {},
     "output_type": "execute_result"
    }
   ],
   "source": [
    "data = [4135, 4202, 4203, 4218, 4227, 4231, 4310]\n",
    "np.mean(data)"
   ]
  },
  {
   "cell_type": "markdown",
   "metadata": {},
   "source": [
    "Likelihood-Wert: AMK rechnet das doch selber aus"
   ]
  },
  {
   "cell_type": "markdown",
   "metadata": {},
   "source": [
    "### b) \n",
    "Mit dem Ansatz $\\lambda (t) = mt + \\lambda_0$ folgt\n",
    "$$ l =-\\ln(L)= -\\sum_{1=1}^7 ( k_i \\ln(mt_i+\\lambda_0) - (mt_i+\\lambda_0) -ln(k_i!)  ), $$\n",
    "wobei der letzte Term für das Finden des Minimums vernachlässigt werden kann."
   ]
  },
  {
   "cell_type": "code",
   "execution_count": 43,
   "metadata": {},
   "outputs": [],
   "source": [
    "days = np.arange(1,8)"
   ]
  },
  {
   "cell_type": "markdown",
   "metadata": {},
   "source": [
    "x[0] entspricht m und x[1] entspricht $\\lambda$."
   ]
  },
  {
   "cell_type": "code",
   "execution_count": 44,
   "metadata": {},
   "outputs": [],
   "source": [
    "func = lambda x: -sum(data*np.log(x[0]*days + x[1])-(x[0]*days+x[1]))"
   ]
  },
  {
   "cell_type": "code",
   "execution_count": 46,
   "metadata": {},
   "outputs": [
    {
     "data": {
      "text/plain": [
       "      fun: -216932.51676985685\n",
       " hess_inv: array([[ 30.5330594 , -39.31456571],\n",
       "       [-39.31456571,  56.49224058]])\n",
       "      jac: array([0., 0.])\n",
       "  message: 'Optimization terminated successfully.'\n",
       "     nfev: 100\n",
       "      nit: 19\n",
       "     njev: 25\n",
       "   status: 0\n",
       "  success: True\n",
       "        x: array([  21.70586301, 4131.20291249])"
      ]
     },
     "execution_count": 46,
     "metadata": {},
     "output_type": "execute_result"
    }
   ],
   "source": [
    "mini = minimize(func, (10,4000))\n",
    "mini"
   ]
  },
  {
   "cell_type": "markdown",
   "metadata": {},
   "source": [
    "# Aufgabe 32: Chi-Quadrat-Test\n",
    "### a) \n",
    "Die Test-Statistik ist definiert als $$ \\chi^2 = \\sum_i \\frac{(y_i - f(x_i))^2}{\\sigma_i^2},$$\n",
    "wobei $\\sigma_i$ eigentlich der jeweilige Modellfehler ist."
   ]
  },
  {
   "cell_type": "code",
   "execution_count": 57,
   "metadata": {},
   "outputs": [
    {
     "data": {
      "text/plain": [
       "6.080000000000007"
      ]
     },
     "execution_count": 57,
     "metadata": {},
     "output_type": "execute_result"
    }
   ],
   "source": [
    "E = np.array([31.6, 32.2, 31.2, 31.9, 31.3, 30.8, 31.3])\n",
    "chi_squared = sum((E-31.3)**2/(0.5**2))\n",
    "chi_squared"
   ]
  },
  {
   "cell_type": "markdown",
   "metadata": {},
   "source": [
    "Dieser Wert wird verglichen mit einer $\\chi^2$-Tabelle mit 7 DOF.\n",
    "Bei einer Signifikanz von 0,05 wird bei $\\chi^2 > 14,06$ abgelehnt.  \n",
    "Also wird das Modell angenommen."
   ]
  },
  {
   "cell_type": "markdown",
   "metadata": {},
   "source": [
    "### b) "
   ]
  },
  {
   "cell_type": "code",
   "execution_count": 56,
   "metadata": {},
   "outputs": [
    {
     "data": {
      "text/plain": [
       "21.920000000000073"
      ]
     },
     "execution_count": 56,
     "metadata": {},
     "output_type": "execute_result"
    }
   ],
   "source": [
    "chi_squared_b = sum((E-30.7)**2/(0.5**2))\n",
    "chi_squared_b"
   ]
  },
  {
   "cell_type": "markdown",
   "metadata": {},
   "source": [
    "Dieses Modell muss verworfen werden."
   ]
  }
 ],
 "metadata": {
  "kernelspec": {
   "display_name": "Python 3",
   "language": "python",
   "name": "python3"
  },
  "language_info": {
   "codemirror_mode": {
    "name": "ipython",
    "version": 3
   },
   "file_extension": ".py",
   "mimetype": "text/x-python",
   "name": "python",
   "nbconvert_exporter": "python",
   "pygments_lexer": "ipython3",
   "version": "3.6.8"
  }
 },
 "nbformat": 4,
 "nbformat_minor": 2
}
