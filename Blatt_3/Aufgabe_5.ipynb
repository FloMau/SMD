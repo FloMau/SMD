{
 "cells": [
  {
   "cell_type": "markdown",
   "metadata": {},
   "source": [
    "# Aufgabe 5\n",
    "### a)\n",
    "\n",
    "Wir haben gleichverteilte Zufallszahlen z von 0 bis 1. Diese sollen auf gleichverteilte Zufallszahlen von $x_{min}$ bis $x_{max}$ transformiert werden."
   ]
  },
  {
   "cell_type": "code",
   "execution_count": 3,
   "metadata": {},
   "outputs": [],
   "source": [
    "import numpy as np\n",
    "import matplotlib.pyplot as plt "
   ]
  },
  {
   "cell_type": "code",
   "execution_count": 8,
   "metadata": {},
   "outputs": [],
   "source": [
    "z = np.random.uniform(0, 1, 2000)"
   ]
  },
  {
   "cell_type": "code",
   "execution_count": 9,
   "metadata": {},
   "outputs": [
    {
     "data": {
      "text/plain": [
       "(array([ 92., 101., 104., 105., 109., 100., 104., 108., 110.,  91.,  97.,\n",
       "         99.,  89.,  94.,  99., 101., 124.,  99.,  95.,  79.]),\n",
       " array([9.71463324e-04, 5.09168163e-02, 1.00862169e-01, 1.50807522e-01,\n",
       "        2.00752875e-01, 2.50698228e-01, 3.00643581e-01, 3.50588934e-01,\n",
       "        4.00534287e-01, 4.50479640e-01, 5.00424993e-01, 5.50370346e-01,\n",
       "        6.00315699e-01, 6.50261052e-01, 7.00206405e-01, 7.50151758e-01,\n",
       "        8.00097111e-01, 8.50042464e-01, 8.99987817e-01, 9.49933170e-01,\n",
       "        9.99878523e-01]),\n",
       " <a list of 20 Patch objects>)"
      ]
     },
     "execution_count": 9,
     "metadata": {},
     "output_type": "execute_result"
    },
    {
     "data": {
      "image/png": "[encoded data removed]",
      "text/plain": [
       "<Figure size 432x288 with 1 Axes>"
      ]
     },
     "metadata": {
      "needs_background": "light"
     },
     "output_type": "display_data"
    }
   ],
   "source": [
    "plt.hist(z, bins = 20)"
   ]
  },
  {
   "cell_type": "code",
   "execution_count": 15,
   "metadata": {},
   "outputs": [],
   "source": [
    "x_min = 5\n",
    "x_max = 10\n",
    "z_uniform = (x_max-x_min)*z + x_min"
   ]
  },
  {
   "cell_type": "code",
   "execution_count": 16,
   "metadata": {},
   "outputs": [
    {
     "data": {
      "text/plain": [
       "(array([ 92., 101., 104., 105., 109., 100., 104., 108., 110.,  91.,  97.,\n",
       "         99.,  89.,  94.,  99., 101., 124.,  99.,  95.,  79.]),\n",
       " array([5.00485732, 5.25458408, 5.50431085, 5.75403761, 6.00376438,\n",
       "        6.25349114, 6.50321791, 6.75294467, 7.00267144, 7.2523982 ,\n",
       "        7.50212497, 7.75185173, 8.0015785 , 8.25130526, 8.50103203,\n",
       "        8.75075879, 9.00048556, 9.25021232, 9.49993909, 9.74966585,\n",
       "        9.99939262]),\n",
       " <a list of 20 Patch objects>)"
      ]
     },
     "execution_count": 16,
     "metadata": {},
     "output_type": "execute_result"
    },
    {
     "data": {
      "image/png": "[encoded data removed]",
      "text/plain": [
       "<Figure size 432x288 with 1 Axes>"
      ]
     },
     "metadata": {
      "needs_background": "light"
     },
     "output_type": "display_data"
    }
   ],
   "source": [
    "plt.hist(z_uniform, bins = 20)"
   ]
  },
  {
   "cell_type": "markdown",
   "metadata": {},
   "source": [
    "### b) \n",
    "Transformation in die Exponentialverteilung gemäß $$f(t) = N\\exp(-t/\\tau)$$\n",
    "+ Normierung der Verteilung: $$\\int_0^\\infty N\\exp(-t/\\tau) = 1$$ liefert $N= 1/\\tau$\n",
    "+ CDF bestimmen: $$F(t) = \\int_0^t 1/\\tau\\exp(-t´/\\tau)\\,dt´ = 1 - \\exp(-t/\\tau) $$\n",
    "+ Invertierung der CDF: $$ \\exp(-t/\\tau) = 1 - F(t) \\\\ \\leftrightarrow t = -\\tau \\ln(1-F(t)) $$\n",
    "+ also ist $$ F^{-1}(t) =  -\\tau \\ln(1-t) $$\n",
    "+ Die neuen Zufallszahlen sind dann $$ F^{-1}(z) $$"
   ]
  },
  {
   "cell_type": "code",
   "execution_count": 17,
   "metadata": {},
   "outputs": [],
   "source": [
    "tau = 10\n",
    "\n",
    "z_exp = - tau*np.log(1-z)"
   ]
  },
  {
   "cell_type": "code",
   "execution_count": 19,
   "metadata": {},
   "outputs": [
    {
     "data": {
      "text/plain": [
       "(array([750., 455., 280., 198., 136.,  66.,  41.,  23.,  21.,  13.,   9.,\n",
       "          1.,   3.,   1.,   1.,   1.,   0.,   0.,   0.,   1.]),\n",
       " array([9.71935500e-03, 4.51712783e+00, 9.02453630e+00, 1.35319448e+01,\n",
       "        1.80393532e+01, 2.25467617e+01, 2.70541702e+01, 3.15615787e+01,\n",
       "        3.60689871e+01, 4.05763956e+01, 4.50838041e+01, 4.95912126e+01,\n",
       "        5.40986210e+01, 5.86060295e+01, 6.31134380e+01, 6.76208465e+01,\n",
       "        7.21282549e+01, 7.66356634e+01, 8.11430719e+01, 8.56504803e+01,\n",
       "        9.01578888e+01]),\n",
       " <a list of 20 Patch objects>)"
      ]
     },
     "execution_count": 19,
     "metadata": {},
     "output_type": "execute_result"
    },
    {
     "data": {
      "image/png": "[encoded data removed]",
      "text/plain": [
       "<Figure size 432x288 with 1 Axes>"
      ]
     },
     "metadata": {
      "needs_background": "light"
     },
     "output_type": "display_data"
    }
   ],
   "source": [
    "plt.hist(z_exp, bins = 20)"
   ]
  },
  {
   "cell_type": "markdown",
   "metadata": {},
   "source": [
    "### c)\n",
    "Transformation in ein Potenzgesetz in den Grenzen $x_{min}$ bis $x_{max}$ gemäß $$f(x) = Nx^{-n}$$\n",
    "+ Normierung der Verteilung: $$\\int_{x_{min}}^{x_{max}} Nx^{-n} = \\frac{N}{-n+1}(x_{max}^{-n+1} - x_{min}^{-n+1})= 1$$ liefert $$N= \\frac{1-n}{ x_{max}^{-n+1} - x_{min}^{-n+1} }$$\n",
    "+ CDF bestimmen: $$F(x) = \\int_{x_{min}}^x f(x´)dx´ = \\frac{x^{1-n}-x_{min}^{1-n}}{ x_{max}^{-n+1} - x_{min}^{-n+1} } $$\n",
    "\n",
    "+ Invertierung der CDF: $$ (x_{max}^{-n+1} - x_{min}^{-n+1}) F(x) = x^{1-n}-x_{min}^{1-n} \\\\ \\leftrightarrow x = ((x_{max}^{-n+1} - x_{min}^{-n+1}) F(x) + x_{min}^{1-n})^{1/(1-n)} $$\n",
    "+ also ist $$ F^{-1}(x) = ((x_{max}^{-n+1} - x_{min}^{-n+1}) x + x_{min}^{1-n})^{1/(1-n)} $$\n",
    "+ Die neuen Zufallszahlen sind dann $$ F^{-1}(z) $$"
   ]
  },
  {
   "cell_type": "code",
   "execution_count": 20,
   "metadata": {},
   "outputs": [],
   "source": [
    "n = 5\n",
    "z_pot = ((x_max**(-n+1) - x_min**(-n+1))*z + x_min**(-n+1))**(1/(1-n))"
   ]
  },
  {
   "cell_type": "code",
   "execution_count": 21,
   "metadata": {},
   "outputs": [
    {
     "data": {
      "text/plain": [
       "(array([373., 318., 255., 179., 149., 118.,  97.,  99.,  69.,  84.,  49.,\n",
       "         45.,  34.,  26.,  27.,  18.,  16.,  19.,  17.,   8.]),\n",
       " array([5.00113908, 5.25085462, 5.50057015, 5.75028569, 6.00000123,\n",
       "        6.24971676, 6.4994323 , 6.74914784, 6.99886337, 7.24857891,\n",
       "        7.49829445, 7.74800998, 7.99772552, 8.24744105, 8.49715659,\n",
       "        8.74687213, 8.99658766, 9.2463032 , 9.49601874, 9.74573427,\n",
       "        9.99544981]),\n",
       " <a list of 20 Patch objects>)"
      ]
     },
     "execution_count": 21,
     "metadata": {},
     "output_type": "execute_result"
    },
    {
     "data": {
      "image/png": "[encoded data removed]",
      "text/plain": [
       "<Figure size 432x288 with 1 Axes>"
      ]
     },
     "metadata": {
      "needs_background": "light"
     },
     "output_type": "display_data"
    }
   ],
   "source": [
    "plt.hist(z_pot, bins = 20)"
   ]
  },
  {
   "cell_type": "markdown",
   "metadata": {},
   "source": [
    "### d)\n",
    "Transformation in eine Cauchy-verteilung in den Grenzen $-\\infty$ bis $\\infty$ gemäß $$f(x) = \\frac{1}{\\pi(1+x^2)}$$\n",
    "+ Normierung der Verteilung: $$\\int_\\infty^\\infty \\frac{1}{\\pi(1+x^2)} =\\frac{1}{\\pi} (\\arctan(\\infty) - \\arctan(-\\infty))= 1$$ ist schon normiert\n",
    "\n",
    "+ CDF bestimmen: $$F(x) = \\int_{-\\infty}^x f(x´)dx´ = \\frac{1}{\\pi}(\\arctan(x) + \\frac{\\pi}{2}) $$\n",
    "\n",
    "+ Invertierung der CDF: $$ F(x) \\pi - \\frac{\\pi}{2} = \\arctan(x) \\\\ \\leftrightarrow x = \\tan(F(x) \\pi - \\frac{\\pi}{2}) $$\n",
    "+ also ist $$ F^{-1}(x) = \\tan(x \\pi - \\frac{\\pi}{2}) $$\n",
    "+ Die neuen Zufallszahlen sind dann $$ F^{-1}(z) $$"
   ]
  },
  {
   "cell_type": "code",
   "execution_count": 31,
   "metadata": {},
   "outputs": [
    {
     "data": {
      "text/plain": [
       "(2620.3389212741918, 1934)"
      ]
     },
     "execution_count": 31,
     "metadata": {},
     "output_type": "execute_result"
    }
   ],
   "source": [
    "z_cauchy = np.tan(z*np.pi - np.pi/2)\n",
    "max(z_cauchy), np.argmax(z_cauchy)"
   ]
  },
  {
   "cell_type": "code",
   "execution_count": 32,
   "metadata": {},
   "outputs": [
    {
     "data": {
      "text/plain": [
       "(-40, 40)"
      ]
     },
     "execution_count": 32,
     "metadata": {},
     "output_type": "execute_result"
    },
    {
     "data": {
      "image/png": "[encoded data removed]",
      "text/plain": [
       "<Figure size 432x288 with 1 Axes>"
      ]
     },
     "metadata": {
      "needs_background": "light"
     },
     "output_type": "display_data"
    }
   ],
   "source": [
    "plt.hist(z_cauchy, bins = 1000)\n",
    "plt.xlim(-40, 40)"
   ]
  },
  {
   "cell_type": "markdown",
   "metadata": {},
   "source": [
    "### e) \n",
    "Die Empirische Verteilung gegeben durch das Histogramm. Hier wird es mit dem Neumannschen Rückweisungsverfahren gelöst."
   ]
  },
  {
   "cell_type": "code",
   "execution_count": 35,
   "metadata": {},
   "outputs": [
    {
     "data": {
      "text/html": [
       "<div>\n",
       "<style scoped>\n",
       "    .dataframe tbody tr th:only-of-type {\n",
       "        vertical-align: middle;\n",
       "    }\n",
       "\n",
       "    .dataframe tbody tr th {\n",
       "        vertical-align: top;\n",
       "    }\n",
       "\n",
       "    .dataframe thead th {\n",
       "        text-align: right;\n",
       "    }\n",
       "</style>\n",
       "<table border=\"1\" class=\"dataframe\">\n",
       "  <thead>\n",
       "    <tr style=\"text-align: right;\">\n",
       "      <th></th>\n",
       "      <th>binmid</th>\n",
       "      <th>counts</th>\n",
       "    </tr>\n",
       "  </thead>\n",
       "  <tbody>\n",
       "    <tr>\n",
       "      <th>0</th>\n",
       "      <td>0.01</td>\n",
       "      <td>38</td>\n",
       "    </tr>\n",
       "    <tr>\n",
       "      <th>1</th>\n",
       "      <td>0.03</td>\n",
       "      <td>45</td>\n",
       "    </tr>\n",
       "    <tr>\n",
       "      <th>2</th>\n",
       "      <td>0.05</td>\n",
       "      <td>38</td>\n",
       "    </tr>\n",
       "    <tr>\n",
       "      <th>3</th>\n",
       "      <td>0.07</td>\n",
       "      <td>55</td>\n",
       "    </tr>\n",
       "    <tr>\n",
       "      <th>4</th>\n",
       "      <td>0.09</td>\n",
       "      <td>36</td>\n",
       "    </tr>\n",
       "    <tr>\n",
       "      <th>5</th>\n",
       "      <td>0.11</td>\n",
       "      <td>41</td>\n",
       "    </tr>\n",
       "    <tr>\n",
       "      <th>6</th>\n",
       "      <td>0.13</td>\n",
       "      <td>35</td>\n",
       "    </tr>\n",
       "    <tr>\n",
       "      <th>7</th>\n",
       "      <td>0.15</td>\n",
       "      <td>43</td>\n",
       "    </tr>\n",
       "    <tr>\n",
       "      <th>8</th>\n",
       "      <td>0.17</td>\n",
       "      <td>28</td>\n",
       "    </tr>\n",
       "    <tr>\n",
       "      <th>9</th>\n",
       "      <td>0.19</td>\n",
       "      <td>44</td>\n",
       "    </tr>\n",
       "    <tr>\n",
       "      <th>10</th>\n",
       "      <td>0.21</td>\n",
       "      <td>40</td>\n",
       "    </tr>\n",
       "    <tr>\n",
       "      <th>11</th>\n",
       "      <td>0.23</td>\n",
       "      <td>33</td>\n",
       "    </tr>\n",
       "    <tr>\n",
       "      <th>12</th>\n",
       "      <td>0.25</td>\n",
       "      <td>35</td>\n",
       "    </tr>\n",
       "    <tr>\n",
       "      <th>13</th>\n",
       "      <td>0.27</td>\n",
       "      <td>35</td>\n",
       "    </tr>\n",
       "    <tr>\n",
       "      <th>14</th>\n",
       "      <td>0.29</td>\n",
       "      <td>31</td>\n",
       "    </tr>\n",
       "    <tr>\n",
       "      <th>15</th>\n",
       "      <td>0.31</td>\n",
       "      <td>43</td>\n",
       "    </tr>\n",
       "    <tr>\n",
       "      <th>16</th>\n",
       "      <td>0.33</td>\n",
       "      <td>48</td>\n",
       "    </tr>\n",
       "    <tr>\n",
       "      <th>17</th>\n",
       "      <td>0.35</td>\n",
       "      <td>46</td>\n",
       "    </tr>\n",
       "    <tr>\n",
       "      <th>18</th>\n",
       "      <td>0.37</td>\n",
       "      <td>59</td>\n",
       "    </tr>\n",
       "    <tr>\n",
       "      <th>19</th>\n",
       "      <td>0.39</td>\n",
       "      <td>77</td>\n",
       "    </tr>\n",
       "    <tr>\n",
       "      <th>20</th>\n",
       "      <td>0.41</td>\n",
       "      <td>75</td>\n",
       "    </tr>\n",
       "    <tr>\n",
       "      <th>21</th>\n",
       "      <td>0.43</td>\n",
       "      <td>102</td>\n",
       "    </tr>\n",
       "    <tr>\n",
       "      <th>22</th>\n",
       "      <td>0.45</td>\n",
       "      <td>119</td>\n",
       "    </tr>\n",
       "    <tr>\n",
       "      <th>23</th>\n",
       "      <td>0.47</td>\n",
       "      <td>165</td>\n",
       "    </tr>\n",
       "    <tr>\n",
       "      <th>24</th>\n",
       "      <td>0.49</td>\n",
       "      <td>208</td>\n",
       "    </tr>\n",
       "    <tr>\n",
       "      <th>25</th>\n",
       "      <td>0.51</td>\n",
       "      <td>207</td>\n",
       "    </tr>\n",
       "    <tr>\n",
       "      <th>26</th>\n",
       "      <td>0.53</td>\n",
       "      <td>250</td>\n",
       "    </tr>\n",
       "    <tr>\n",
       "      <th>27</th>\n",
       "      <td>0.55</td>\n",
       "      <td>309</td>\n",
       "    </tr>\n",
       "    <tr>\n",
       "      <th>28</th>\n",
       "      <td>0.57</td>\n",
       "      <td>414</td>\n",
       "    </tr>\n",
       "    <tr>\n",
       "      <th>29</th>\n",
       "      <td>0.59</td>\n",
       "      <td>414</td>\n",
       "    </tr>\n",
       "    <tr>\n",
       "      <th>30</th>\n",
       "      <td>0.61</td>\n",
       "      <td>435</td>\n",
       "    </tr>\n",
       "    <tr>\n",
       "      <th>31</th>\n",
       "      <td>0.63</td>\n",
       "      <td>441</td>\n",
       "    </tr>\n",
       "    <tr>\n",
       "      <th>32</th>\n",
       "      <td>0.65</td>\n",
       "      <td>489</td>\n",
       "    </tr>\n",
       "    <tr>\n",
       "      <th>33</th>\n",
       "      <td>0.67</td>\n",
       "      <td>510</td>\n",
       "    </tr>\n",
       "    <tr>\n",
       "      <th>34</th>\n",
       "      <td>0.69</td>\n",
       "      <td>535</td>\n",
       "    </tr>\n",
       "    <tr>\n",
       "      <th>35</th>\n",
       "      <td>0.71</td>\n",
       "      <td>502</td>\n",
       "    </tr>\n",
       "    <tr>\n",
       "      <th>36</th>\n",
       "      <td>0.73</td>\n",
       "      <td>557</td>\n",
       "    </tr>\n",
       "    <tr>\n",
       "      <th>37</th>\n",
       "      <td>0.75</td>\n",
       "      <td>469</td>\n",
       "    </tr>\n",
       "    <tr>\n",
       "      <th>38</th>\n",
       "      <td>0.77</td>\n",
       "      <td>487</td>\n",
       "    </tr>\n",
       "    <tr>\n",
       "      <th>39</th>\n",
       "      <td>0.79</td>\n",
       "      <td>403</td>\n",
       "    </tr>\n",
       "    <tr>\n",
       "      <th>40</th>\n",
       "      <td>0.81</td>\n",
       "      <td>382</td>\n",
       "    </tr>\n",
       "    <tr>\n",
       "      <th>41</th>\n",
       "      <td>0.83</td>\n",
       "      <td>318</td>\n",
       "    </tr>\n",
       "    <tr>\n",
       "      <th>42</th>\n",
       "      <td>0.85</td>\n",
       "      <td>276</td>\n",
       "    </tr>\n",
       "    <tr>\n",
       "      <th>43</th>\n",
       "      <td>0.87</td>\n",
       "      <td>262</td>\n",
       "    </tr>\n",
       "    <tr>\n",
       "      <th>44</th>\n",
       "      <td>0.89</td>\n",
       "      <td>232</td>\n",
       "    </tr>\n",
       "    <tr>\n",
       "      <th>45</th>\n",
       "      <td>0.91</td>\n",
       "      <td>182</td>\n",
       "    </tr>\n",
       "    <tr>\n",
       "      <th>46</th>\n",
       "      <td>0.93</td>\n",
       "      <td>142</td>\n",
       "    </tr>\n",
       "    <tr>\n",
       "      <th>47</th>\n",
       "      <td>0.95</td>\n",
       "      <td>107</td>\n",
       "    </tr>\n",
       "    <tr>\n",
       "      <th>48</th>\n",
       "      <td>0.97</td>\n",
       "      <td>93</td>\n",
       "    </tr>\n",
       "    <tr>\n",
       "      <th>49</th>\n",
       "      <td>0.99</td>\n",
       "      <td>65</td>\n",
       "    </tr>\n",
       "  </tbody>\n",
       "</table>\n",
       "</div>"
      ],
      "text/plain": [
       "    binmid  counts\n",
       "0     0.01      38\n",
       "1     0.03      45\n",
       "2     0.05      38\n",
       "3     0.07      55\n",
       "4     0.09      36\n",
       "5     0.11      41\n",
       "6     0.13      35\n",
       "7     0.15      43\n",
       "8     0.17      28\n",
       "9     0.19      44\n",
       "10    0.21      40\n",
       "11    0.23      33\n",
       "12    0.25      35\n",
       "13    0.27      35\n",
       "14    0.29      31\n",
       "15    0.31      43\n",
       "16    0.33      48\n",
       "17    0.35      46\n",
       "18    0.37      59\n",
       "19    0.39      77\n",
       "20    0.41      75\n",
       "21    0.43     102\n",
       "22    0.45     119\n",
       "23    0.47     165\n",
       "24    0.49     208\n",
       "25    0.51     207\n",
       "26    0.53     250\n",
       "27    0.55     309\n",
       "28    0.57     414\n",
       "29    0.59     414\n",
       "30    0.61     435\n",
       "31    0.63     441\n",
       "32    0.65     489\n",
       "33    0.67     510\n",
       "34    0.69     535\n",
       "35    0.71     502\n",
       "36    0.73     557\n",
       "37    0.75     469\n",
       "38    0.77     487\n",
       "39    0.79     403\n",
       "40    0.81     382\n",
       "41    0.83     318\n",
       "42    0.85     276\n",
       "43    0.87     262\n",
       "44    0.89     232\n",
       "45    0.91     182\n",
       "46    0.93     142\n",
       "47    0.95     107\n",
       "48    0.97      93\n",
       "49    0.99      65"
      ]
     },
     "execution_count": 35,
     "metadata": {},
     "output_type": "execute_result"
    }
   ],
   "source": [
    "import pandas as pd\n",
    "hist = pd.read_csv('empirisches_histogramm.csv')\n",
    "hist"
   ]
  },
  {
   "cell_type": "code",
   "execution_count": 67,
   "metadata": {},
   "outputs": [
    {
     "data": {
      "text/plain": [
       "[<matplotlib.lines.Line2D at 0x2704e56e0b8>]"
      ]
     },
     "execution_count": 67,
     "metadata": {},
     "output_type": "execute_result"
    },
    {
     "data": {
      "image/png": "[encoded data removed]",
      "text/plain": [
       "<Figure size 432x288 with 1 Axes>"
      ]
     },
     "metadata": {
      "needs_background": "light"
     },
     "output_type": "display_data"
    }
   ],
   "source": [
    "plt.plot(hist.binmid, hist.counts, 'rx')"
   ]
  },
  {
   "cell_type": "markdown",
   "metadata": {},
   "source": [
    "Wir ziehen nur die Indizes von dem Histogramm als u1, da wir keine kontinuierliche Verteilung haben."
   ]
  },
  {
   "cell_type": "code",
   "execution_count": 60,
   "metadata": {},
   "outputs": [
    {
     "data": {
      "text/plain": [
       "(array([ 933.,  971.,  997., 1067., 1049., 1005., 1053., 1053.,  942.,\n",
       "         930.]),\n",
       " array([ 0. ,  4.9,  9.8, 14.7, 19.6, 24.5, 29.4, 34.3, 39.2, 44.1, 49. ]),\n",
       " <a list of 10 Patch objects>)"
      ]
     },
     "execution_count": 60,
     "metadata": {},
     "output_type": "execute_result"
    },
    {
     "data": {
      "image/png": "[encoded data removed]",
      "text/plain": [
       "<Figure size 432x288 with 1 Axes>"
      ]
     },
     "metadata": {
      "needs_background": "light"
     },
     "output_type": "display_data"
    }
   ],
   "source": [
    "u_1 = np.random.uniform(0,49,10000).round()\n",
    "u_2 = np.random.uniform(0, max(hist.counts), 10000)\n",
    "plt.hist(u_1)"
   ]
  },
  {
   "cell_type": "code",
   "execution_count": 61,
   "metadata": {},
   "outputs": [],
   "source": [
    "numbers = []\n",
    "j = 0\n",
    "for i in u_1:\n",
    "    if hist.counts[i] < u_2[j]:\n",
    "        j += 1\n",
    "    else:\n",
    "        numbers.append(i)\n",
    "        j += 1"
   ]
  },
  {
   "cell_type": "code",
   "execution_count": 65,
   "metadata": {},
   "outputs": [
    {
     "data": {
      "text/plain": [
       "(array([ 25.,  27.,  27.,  23.,  27.,  30.,  23.,  34.,  42.,  42.,  70.,\n",
       "        109., 155., 193., 301., 349., 381., 393., 385., 330., 215., 188.,\n",
       "        146., 107.,  49.]),\n",
       " array([ 0.  ,  1.96,  3.92,  5.88,  7.84,  9.8 , 11.76, 13.72, 15.68,\n",
       "        17.64, 19.6 , 21.56, 23.52, 25.48, 27.44, 29.4 , 31.36, 33.32,\n",
       "        35.28, 37.24, 39.2 , 41.16, 43.12, 45.08, 47.04, 49.  ]),\n",
       " <a list of 25 Patch objects>)"
      ]
     },
     "execution_count": 65,
     "metadata": {},
     "output_type": "execute_result"
    },
    {
     "data": {
      "image/png": "[encoded data removed]",
      "text/plain": [
       "<Figure size 432x288 with 1 Axes>"
      ]
     },
     "metadata": {
      "needs_background": "light"
     },
     "output_type": "display_data"
    }
   ],
   "source": [
    "plt.hist(numbers, bins = 25)"
   ]
  },
  {
   "cell_type": "code",
   "execution_count": 66,
   "metadata": {},
   "outputs": [
    {
     "data": {
      "text/plain": [
       "3671"
      ]
     },
     "execution_count": 66,
     "metadata": {},
     "output_type": "execute_result"
    }
   ],
   "source": [
    "len(numbers)"
   ]
  }
 ],
 "metadata": {
  "kernelspec": {
   "display_name": "Python 3",
   "language": "python",
   "name": "python3"
  },
  "language_info": {
   "codemirror_mode": {
    "name": "ipython",
    "version": 3
   },
   "file_extension": ".py",
   "mimetype": "text/x-python",
   "name": "python",
   "nbconvert_exporter": "python",
   "pygments_lexer": "ipython3",
   "version": "3.6.8"
  }
 },
 "nbformat": 4,
 "nbformat_minor": 2
}
