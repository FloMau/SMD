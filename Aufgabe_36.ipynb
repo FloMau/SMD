{
 "cells": [
  {
   "cell_type": "markdown",
   "metadata": {},
   "source": [
    "# Aufgabe 36: Entfaltung mit quadratischen Matrizen\n",
    "### a) Aufstellen der Migrationsmatrix"
   ]
  },
  {
   "cell_type": "markdown",
   "metadata": {},
   "source": [
    "Die Matrix $A$ beschreibt beispielsweise einen direkten Messprozess mit begrenzter Auflösung, sodass ein Ereignis aus einem Bin mit der Wahrscheinlichkeit $\\epsilon$ in den Nachbarbin verschoben wird."
   ]
  },
  {
   "cell_type": "code",
   "execution_count": 1,
   "metadata": {},
   "outputs": [],
   "source": [
    "import numpy as np\n",
    "import matplotlib.pyplot as plt"
   ]
  },
  {
   "cell_type": "code",
   "execution_count": 2,
   "metadata": {},
   "outputs": [],
   "source": [
    "def make_matrix(dimension, epsilon):\n",
    "    matrix = np.matrix(np.zeros((dimension, dimension)))\n",
    "    matrix += np.diag((1-2*epsilon)*np.ones(dimension))\n",
    "    matrix += np.diag(epsilon*np.ones(dimension-1), k=-1)\n",
    "    matrix += np.diag(epsilon*np.ones(dimension-1), k=1)\n",
    "    matrix[(0,0)] = 1 - epsilon\n",
    "    matrix[(dimension-1, dimension-1)] = 1 - epsilon\n",
    "    return matrix "
   ]
  },
  {
   "cell_type": "code",
   "execution_count": 3,
   "metadata": {},
   "outputs": [
    {
     "data": {
      "text/plain": [
       "matrix([[0.77, 0.23, 0.  , 0.  , 0.  ],\n",
       "        [0.23, 0.54, 0.23, 0.  , 0.  ],\n",
       "        [0.  , 0.23, 0.54, 0.23, 0.  ],\n",
       "        [0.  , 0.  , 0.23, 0.54, 0.23],\n",
       "        [0.  , 0.  , 0.  , 0.23, 0.77]])"
      ]
     },
     "execution_count": 3,
     "metadata": {},
     "output_type": "execute_result"
    }
   ],
   "source": [
    "epsilon = .23\n",
    "make_matrix(5, epsilon)"
   ]
  },
  {
   "cell_type": "markdown",
   "metadata": {},
   "source": [
    "### b) Erzeugen einer gemessenen Verteilung"
   ]
  },
  {
   "cell_type": "markdown",
   "metadata": {},
   "source": [
    "Wahre Verteilung $\\vec{f}$:"
   ]
  },
  {
   "cell_type": "code",
   "execution_count": 4,
   "metadata": {},
   "outputs": [
    {
     "data": {
      "text/plain": [
       "matrix([[193],\n",
       "        [485],\n",
       "        [664],\n",
       "        [763],\n",
       "        [804],\n",
       "        [805],\n",
       "        [779],\n",
       "        [736],\n",
       "        [684],\n",
       "        [626],\n",
       "        [566],\n",
       "        [508],\n",
       "        [452],\n",
       "        [400],\n",
       "        [351],\n",
       "        [308],\n",
       "        [268],\n",
       "        [233],\n",
       "        [202],\n",
       "        [173]])"
      ]
     },
     "execution_count": 4,
     "metadata": {},
     "output_type": "execute_result"
    }
   ],
   "source": [
    "f = np.matrix((193,485,664,763,804,805,779,736,684,626,566,508,452,400,351,308,268,233,202,173)).reshape(-1,1)\n",
    "f"
   ]
  },
  {
   "cell_type": "code",
   "execution_count": 5,
   "metadata": {},
   "outputs": [
    {
     "data": {
      "text/plain": [
       "matrix([[260.16],\n",
       "        [459.01],\n",
       "        [645.6 ],\n",
       "        [749.66],\n",
       "        [794.8 ],\n",
       "        [798.79],\n",
       "        [775.09],\n",
       "        [733.93],\n",
       "        [682.62],\n",
       "        [625.54],\n",
       "        [566.46],\n",
       "        [508.46],\n",
       "        [452.92],\n",
       "        [400.69],\n",
       "        [352.38],\n",
       "        [308.69],\n",
       "        [269.15],\n",
       "        [233.92],\n",
       "        [202.46],\n",
       "        [179.67]])"
      ]
     },
     "execution_count": 5,
     "metadata": {},
     "output_type": "execute_result"
    }
   ],
   "source": [
    "A = make_matrix(20,epsilon)\n",
    "g = A*f\n",
    "g"
   ]
  },
  {
   "cell_type": "code",
   "execution_count": 6,
   "metadata": {},
   "outputs": [
    {
     "data": {
      "text/plain": [
       "matrix([[262],\n",
       "        [465],\n",
       "        [640],\n",
       "        [745],\n",
       "        [873],\n",
       "        [825],\n",
       "        [780],\n",
       "        [684],\n",
       "        [705],\n",
       "        [623],\n",
       "        [534],\n",
       "        [510],\n",
       "        [438],\n",
       "        [398],\n",
       "        [358],\n",
       "        [346],\n",
       "        [262],\n",
       "        [243],\n",
       "        [209],\n",
       "        [167]])"
      ]
     },
     "execution_count": 6,
     "metadata": {},
     "output_type": "execute_result"
    }
   ],
   "source": [
    "g_values = np.array(g).reshape(-1)\n",
    "\n",
    "np.random.seed(0)\n",
    "g_mess = np.random.poisson(lam=g_values, size=(1, 20))\n",
    "g_mess = np.matrix(g_mess.reshape(-1,1))\n",
    "g_mess"
   ]
  },
  {
   "cell_type": "markdown",
   "metadata": {},
   "source": [
    "### c) Transformation der Faltungsgleichung in die Eigenbasis\n",
    "Die Migrationsmatrix ergibt sich aus ihrer Darstellung in Eigenbasis $D$ durch die Transformation $$ A = U D U^{-1}. $$\n",
    "Dabei ist $D = \\text{diag}(\\vec{\\lambda})$ und die Spalten von U sind die zugehörigen Eigenvektoren. \n",
    "Die Faltungsgleichung lautet $ g = Af$.  \n",
    "Es gilt somit $$ U^{-1}g =: c = DU^{-1}f =: Db. $$ \n",
    "Eine Rechnung in der Eigenbasis liefert den Vorteil, dass man die Anteile mit kleinen Eigenwerten entfernen kann. Diese tragen keine Information und führen wegen der schlechten Konditionierung zu Oszillationen bzw. Rauschen."
   ]
  },
  {
   "cell_type": "code",
   "execution_count": 7,
   "metadata": {},
   "outputs": [
    {
     "data": {
      "text/plain": [
       "array([0.08566336, 0.102514  , 0.130137  , 0.16785218, 0.21473088,\n",
       "       0.26961878, 0.33116437, 0.39785218, 0.46804015, 0.54      ,\n",
       "       0.61195985, 0.68214782, 0.74883563, 0.81038122, 0.86526912,\n",
       "       1.        , 0.99433664, 0.977486  , 0.949863  , 0.91214782])"
      ]
     },
     "execution_count": 7,
     "metadata": {},
     "output_type": "execute_result"
    }
   ],
   "source": [
    "lambdaschs, ev = np.linalg.eig(A) # Spalten von ev sind die EV\n",
    "lambdaschs"
   ]
  },
  {
   "cell_type": "code",
   "execution_count": 8,
   "metadata": {},
   "outputs": [
    {
     "data": {
      "text/plain": [
       "array([1.        , 0.99433664, 0.977486  , 0.949863  , 0.91214782,\n",
       "       0.86526912, 0.81038122, 0.74883563, 0.68214782, 0.61195985,\n",
       "       0.54      , 0.46804015, 0.39785218, 0.33116437, 0.26961878,\n",
       "       0.21473088, 0.16785218, 0.130137  , 0.102514  , 0.08566336])"
      ]
     },
     "execution_count": 8,
     "metadata": {},
     "output_type": "execute_result"
    }
   ],
   "source": [
    "indices_sort = np.argsort(lambdaschs)[::-1] #Indizes der größten Eigenwerte zuerst\n",
    "lambdaschs_sorted = np.sort(lambdaschs)[::-1]\n",
    "lambdaschs_sorted"
   ]
  },
  {
   "cell_type": "code",
   "execution_count": 9,
   "metadata": {},
   "outputs": [
    {
     "data": {
      "text/plain": [
       "matrix([[-2.23606798e-01, -3.15252941e-01,  3.12334477e-01,\n",
       "          3.07490368e-01,  3.00750478e-01,  2.92156361e-01,\n",
       "          2.81761003e-01,  2.69628494e-01, -2.55833637e-01,\n",
       "          2.40461480e-01, -2.23606798e-01,  2.05373505e-01,\n",
       "          1.85874017e-01,  1.65228554e-01,  1.43564402e-01,\n",
       "         -1.21015127e-01, -9.77197538e-02, -7.38219059e-02,\n",
       "          4.94689214e-02,  2.48109446e-02],\n",
       "        [-2.23606798e-01, -3.07490368e-01,  2.81761003e-01,\n",
       "          2.40461480e-01,  1.85874017e-01,  1.21015127e-01,\n",
       "          4.94689214e-02, -2.48109446e-02,  9.77197538e-02,\n",
       "         -1.65228554e-01,  2.23606798e-01, -2.69628494e-01,\n",
       "         -3.00750478e-01, -3.15252941e-01, -3.12334477e-01,\n",
       "          2.92156361e-01,  2.55833637e-01,  2.05373505e-01,\n",
       "         -1.43564402e-01, -7.38219059e-02],\n",
       "        [-2.23606798e-01, -2.92156361e-01,  2.23606798e-01,\n",
       "          1.21015127e-01,  1.48849226e-15, -1.21015127e-01,\n",
       "         -2.23606798e-01, -2.92156361e-01,  3.16227766e-01,\n",
       "         -2.92156361e-01,  2.23606798e-01, -1.21015127e-01,\n",
       "          8.02675641e-16,  1.21015127e-01,  2.23606798e-01,\n",
       "         -2.92156361e-01, -3.16227766e-01, -2.92156361e-01,\n",
       "          2.23606798e-01,  1.21015127e-01],\n",
       "        [-2.23606798e-01, -2.69628494e-01,  1.43564402e-01,\n",
       "         -2.48109446e-02, -1.85874017e-01, -2.92156361e-01,\n",
       "         -3.12334477e-01, -2.40461480e-01,  9.77197538e-02,\n",
       "          7.38219059e-02, -2.23606798e-01,  3.07490368e-01,\n",
       "          3.00750478e-01,  2.05373505e-01,  4.94689214e-02,\n",
       "          1.21015127e-01,  2.55833637e-01,  3.15252941e-01,\n",
       "         -2.81761003e-01, -1.65228554e-01],\n",
       "        [-2.23606798e-01, -2.40461480e-01,  4.94689214e-02,\n",
       "         -1.65228554e-01, -3.00750478e-01, -2.92156361e-01,\n",
       "         -1.43564402e-01,  7.38219059e-02, -2.55833637e-01,\n",
       "          3.15252941e-01, -2.23606798e-01,  2.48109446e-02,\n",
       "         -1.85874017e-01, -3.07490368e-01, -2.81761003e-01,\n",
       "          1.21015127e-01, -9.77197538e-02, -2.69628494e-01,\n",
       "          3.12334477e-01,  2.05373505e-01],\n",
       "        [-2.23606798e-01, -2.05373505e-01, -4.94689214e-02,\n",
       "         -2.69628494e-01, -3.00750478e-01, -1.21015127e-01,\n",
       "          1.43564402e-01,  3.07490368e-01, -2.55833637e-01,\n",
       "          2.48109446e-02,  2.23606798e-01, -3.15252941e-01,\n",
       "         -1.85874017e-01,  7.38219059e-02,  2.81761003e-01,\n",
       "         -2.92156361e-01, -9.77197538e-02,  1.65228554e-01,\n",
       "         -3.12334477e-01, -2.40461480e-01],\n",
       "        [-2.23606798e-01, -1.65228554e-01, -1.43564402e-01,\n",
       "         -3.15252941e-01, -1.85874017e-01,  1.21015127e-01,\n",
       "          3.12334477e-01,  2.05373505e-01,  9.77197538e-02,\n",
       "         -3.07490368e-01,  2.23606798e-01,  7.38219059e-02,\n",
       "          3.00750478e-01,  2.40461480e-01, -4.94689214e-02,\n",
       "          2.92156361e-01,  2.55833637e-01, -2.48109446e-02,\n",
       "          2.81761003e-01,  2.69628494e-01],\n",
       "        [-2.23606798e-01, -1.21015127e-01, -2.23606798e-01,\n",
       "         -2.92156361e-01, -3.86515502e-16,  2.92156361e-01,\n",
       "          2.23606798e-01, -1.21015127e-01,  3.16227766e-01,\n",
       "         -1.21015127e-01, -2.23606798e-01,  2.92156361e-01,\n",
       "          8.84884426e-16, -2.92156361e-01, -2.23606798e-01,\n",
       "         -1.21015127e-01, -3.16227766e-01, -1.21015127e-01,\n",
       "         -2.23606798e-01, -2.92156361e-01],\n",
       "        [-2.23606798e-01, -7.38219059e-02, -2.81761003e-01,\n",
       "         -2.05373505e-01,  1.85874017e-01,  2.92156361e-01,\n",
       "         -4.94689214e-02, -3.15252941e-01,  9.77197538e-02,\n",
       "          2.69628494e-01, -2.23606798e-01, -1.65228554e-01,\n",
       "         -3.00750478e-01,  2.48109446e-02,  3.12334477e-01,\n",
       "         -1.21015127e-01,  2.55833637e-01,  2.40461480e-01,\n",
       "          1.43564402e-01,  3.07490368e-01],\n",
       "        [-2.23606798e-01, -2.48109446e-02, -3.12334477e-01,\n",
       "         -7.38219059e-02,  3.00750478e-01,  1.21015127e-01,\n",
       "         -2.81761003e-01, -1.65228554e-01, -2.55833637e-01,\n",
       "          2.05373505e-01,  2.23606798e-01, -2.40461480e-01,\n",
       "          1.85874017e-01,  2.69628494e-01, -1.43564402e-01,\n",
       "          2.92156361e-01, -9.77197538e-02, -3.07490368e-01,\n",
       "         -4.94689214e-02, -3.15252941e-01],\n",
       "        [-2.23606798e-01,  2.48109446e-02, -3.12334477e-01,\n",
       "          7.38219059e-02,  3.00750478e-01, -1.21015127e-01,\n",
       "         -2.81761003e-01,  1.65228554e-01, -2.55833637e-01,\n",
       "         -2.05373505e-01,  2.23606798e-01,  2.40461480e-01,\n",
       "          1.85874017e-01, -2.69628494e-01, -1.43564402e-01,\n",
       "         -2.92156361e-01, -9.77197538e-02,  3.07490368e-01,\n",
       "         -4.94689214e-02,  3.15252941e-01],\n",
       "        [-2.23606798e-01,  7.38219059e-02, -2.81761003e-01,\n",
       "          2.05373505e-01,  1.85874017e-01, -2.92156361e-01,\n",
       "         -4.94689214e-02,  3.15252941e-01,  9.77197538e-02,\n",
       "         -2.69628494e-01, -2.23606798e-01,  1.65228554e-01,\n",
       "         -3.00750478e-01, -2.48109446e-02,  3.12334477e-01,\n",
       "          1.21015127e-01,  2.55833637e-01, -2.40461480e-01,\n",
       "          1.43564402e-01, -3.07490368e-01],\n",
       "        [-2.23606798e-01,  1.21015127e-01, -2.23606798e-01,\n",
       "          2.92156361e-01, -1.71726101e-15, -2.92156361e-01,\n",
       "          2.23606798e-01,  1.21015127e-01,  3.16227766e-01,\n",
       "          1.21015127e-01, -2.23606798e-01, -2.92156361e-01,\n",
       "         -1.04536475e-15,  2.92156361e-01, -2.23606798e-01,\n",
       "          1.21015127e-01, -3.16227766e-01,  1.21015127e-01,\n",
       "         -2.23606798e-01,  2.92156361e-01],\n",
       "        [-2.23606798e-01,  1.65228554e-01, -1.43564402e-01,\n",
       "          3.15252941e-01, -1.85874017e-01, -1.21015127e-01,\n",
       "          3.12334477e-01, -2.05373505e-01,  9.77197538e-02,\n",
       "          3.07490368e-01,  2.23606798e-01, -7.38219059e-02,\n",
       "          3.00750478e-01, -2.40461480e-01, -4.94689214e-02,\n",
       "         -2.92156361e-01,  2.55833637e-01,  2.48109446e-02,\n",
       "          2.81761003e-01, -2.69628494e-01],\n",
       "        [-2.23606798e-01,  2.05373505e-01, -4.94689214e-02,\n",
       "          2.69628494e-01, -3.00750478e-01,  1.21015127e-01,\n",
       "          1.43564402e-01, -3.07490368e-01, -2.55833637e-01,\n",
       "         -2.48109446e-02,  2.23606798e-01,  3.15252941e-01,\n",
       "         -1.85874017e-01, -7.38219059e-02,  2.81761003e-01,\n",
       "          2.92156361e-01, -9.77197538e-02, -1.65228554e-01,\n",
       "         -3.12334477e-01,  2.40461480e-01],\n",
       "        [-2.23606798e-01,  2.40461480e-01,  4.94689214e-02,\n",
       "          1.65228554e-01, -3.00750478e-01,  2.92156361e-01,\n",
       "         -1.43564402e-01, -7.38219059e-02, -2.55833637e-01,\n",
       "         -3.15252941e-01, -2.23606798e-01, -2.48109446e-02,\n",
       "         -1.85874017e-01,  3.07490368e-01, -2.81761003e-01,\n",
       "         -1.21015127e-01, -9.77197538e-02,  2.69628494e-01,\n",
       "          3.12334477e-01, -2.05373505e-01],\n",
       "        [-2.23606798e-01,  2.69628494e-01,  1.43564402e-01,\n",
       "          2.48109446e-02, -1.85874017e-01,  2.92156361e-01,\n",
       "         -3.12334477e-01,  2.40461480e-01,  9.77197538e-02,\n",
       "         -7.38219059e-02, -2.23606798e-01, -3.07490368e-01,\n",
       "          3.00750478e-01, -2.05373505e-01,  4.94689214e-02,\n",
       "         -1.21015127e-01,  2.55833637e-01, -3.15252941e-01,\n",
       "         -2.81761003e-01,  1.65228554e-01],\n",
       "        [-2.23606798e-01,  2.92156361e-01,  2.23606798e-01,\n",
       "         -1.21015127e-01,  2.17929037e-15,  1.21015127e-01,\n",
       "         -2.23606798e-01,  2.92156361e-01,  3.16227766e-01,\n",
       "          2.92156361e-01,  2.23606798e-01,  1.21015127e-01,\n",
       "          6.82996918e-17, -1.21015127e-01,  2.23606798e-01,\n",
       "          2.92156361e-01, -3.16227766e-01,  2.92156361e-01,\n",
       "          2.23606798e-01, -1.21015127e-01],\n",
       "        [-2.23606798e-01,  3.07490368e-01,  2.81761003e-01,\n",
       "         -2.40461480e-01,  1.85874017e-01, -1.21015127e-01,\n",
       "          4.94689214e-02,  2.48109446e-02,  9.77197538e-02,\n",
       "          1.65228554e-01,  2.23606798e-01,  2.69628494e-01,\n",
       "         -3.00750478e-01,  3.15252941e-01, -3.12334477e-01,\n",
       "         -2.92156361e-01,  2.55833637e-01, -2.05373505e-01,\n",
       "         -1.43564402e-01,  7.38219059e-02],\n",
       "        [-2.23606798e-01,  3.15252941e-01,  3.12334477e-01,\n",
       "         -3.07490368e-01,  3.00750478e-01, -2.92156361e-01,\n",
       "          2.81761003e-01, -2.69628494e-01, -2.55833637e-01,\n",
       "         -2.40461480e-01, -2.23606798e-01, -2.05373505e-01,\n",
       "          1.85874017e-01, -1.65228554e-01,  1.43564402e-01,\n",
       "          1.21015127e-01, -9.77197538e-02,  7.38219059e-02,\n",
       "          4.94689214e-02, -2.48109446e-02]])"
      ]
     },
     "execution_count": 9,
     "metadata": {},
     "output_type": "execute_result"
    }
   ],
   "source": [
    "U = np.matrix( np.zeros((20,20)) )\n",
    "j = 0\n",
    "for i in indices_sort:\n",
    "    U[:,j] = ev[:,i].reshape(-1,1)\n",
    "    j += 1\n",
    "U"
   ]
  },
  {
   "cell_type": "code",
   "execution_count": 10,
   "metadata": {},
   "outputs": [],
   "source": [
    "D = np.diag(lambdaschs_sorted)"
   ]
  },
  {
   "cell_type": "code",
   "execution_count": 11,
   "metadata": {},
   "outputs": [
    {
     "data": {
      "text/plain": [
       "Text(0.5, 0, 'Index des Eigenwerts')"
      ]
     },
     "execution_count": 11,
     "metadata": {},
     "output_type": "execute_result"
    },
    {
     "data": {
      "image/png": "[encoded data removed]",
      "text/plain": [
       "<Figure size 432x288 with 1 Axes>"
      ]
     },
     "metadata": {
      "needs_background": "light"
     },
     "output_type": "display_data"
    }
   ],
   "source": [
    "plt.plot(1/lambdaschs_sorted, 'rx')\n",
    "plt.suptitle('Inverse Eigenwerte')\n",
    "plt.xlim(-1,20)\n",
    "plt.xlabel('Index des Eigenwerts')"
   ]
  },
  {
   "cell_type": "code",
   "execution_count": 12,
   "metadata": {},
   "outputs": [
    {
     "data": {
      "text/plain": [
       "[<matplotlib.lines.Line2D at 0x11f72f704a8>]"
      ]
     },
     "execution_count": 12,
     "metadata": {},
     "output_type": "execute_result"
    },
    {
     "data": {
      "image/png": "[encoded data removed]",
      "text/plain": [
       "<Figure size 432x288 with 1 Axes>"
      ]
     },
     "metadata": {
      "needs_background": "light"
     },
     "output_type": "display_data"
    }
   ],
   "source": [
    "plt.plot(np.array(U[:,0]).reshape(-1), 'rx')"
   ]
  },
  {
   "cell_type": "markdown",
   "metadata": {},
   "source": [
    "### d) Transformation der Verteilungen"
   ]
  },
  {
   "cell_type": "code",
   "execution_count": 13,
   "metadata": {},
   "outputs": [],
   "source": [
    "c = np.linalg.inv(U)*g\n",
    "b = np.linalg.inv(U)*f\n",
    "c_mess = np.linalg.inv(U)*g_mess"
   ]
  },
  {
   "cell_type": "markdown",
   "metadata": {},
   "source": [
    "Die aus den Messfehlern propagierte Kovarianzmatrix von b folgt mithilfe der BVB-Formel:\n",
    "$$  b = D^{-1}c = D^{-1}U^{-1} g_{mess} \\\\ \n",
    "\\rightarrow  V(b) = D^{-1}U^{-1} V(g_{mess}) (D^{-1}U^{-1})^T. $$ \n"
   ]
  },
  {
   "cell_type": "code",
   "execution_count": 14,
   "metadata": {},
   "outputs": [
    {
     "data": {
      "text/plain": [
       "matrix([[ 5.03350000e+02,  1.54494236e+02,  1.04318437e+02,\n",
       "          7.65264536e+01,  7.36486287e+01,  4.00716202e+01,\n",
       "          3.59263095e+01,  1.72774691e+01, -3.89503022e+00,\n",
       "         -5.71843972e-01, -7.68518519e+00,  1.75514045e+01,\n",
       "          3.52120782e+01, -2.34884322e+00,  6.29185220e+00,\n",
       "         -1.80523232e+01, -2.46759413e+01,  4.83342422e+00,\n",
       "         -1.03909768e+02, -2.78343826e+01],\n",
       "        [ 1.54494236e+02,  4.36172876e+02, -5.88773947e+01,\n",
       "          1.26636264e+02,  8.37025093e+01,  7.91393644e+01,\n",
       "          4.17798565e+01,  3.01714266e+01, -1.31229400e+01,\n",
       "          7.91012796e+00, -1.03572960e+01,  2.75908588e+01,\n",
       "          1.32929774e+01,  3.37258257e+01,  8.17256254e+00,\n",
       "         -1.93350085e+01, -1.37580919e+01,  3.55755385e+01,\n",
       "         -2.09037552e+01, -8.84292628e+01],\n",
       "        [ 1.04318437e+02, -5.88773947e+01,  4.77088175e+02,\n",
       "          9.05868824e+01, -1.03958095e+02, -7.15874979e+01,\n",
       "         -6.23391470e+01, -3.31566420e+01,  3.52752839e+01,\n",
       "         -2.50045065e+01,  2.23263119e+01,  1.74310262e+00,\n",
       "         -1.06301980e+01, -2.64118350e+01, -4.86998436e+01,\n",
       "         -4.73948322e+00, -3.85968692e+01,  8.29361334e+00,\n",
       "         -2.92275215e+01, -1.48234864e+01],\n",
       "        [ 7.65264536e+01,  1.26636264e+02,  9.05868824e+01,\n",
       "          5.35072085e+02,  1.14814084e+02, -9.00151808e+01,\n",
       "         -6.64525080e+01, -7.09088157e+01,  4.68032749e+01,\n",
       "         -5.24580527e+01,  1.67636481e+01, -6.92417907e+00,\n",
       "         -6.59841290e+00, -1.86395334e+01, -2.09446291e+01,\n",
       "          1.16380533e+01, -1.40246447e+01,  9.70402488e+00,\n",
       "         -4.54641579e+01, -1.28563579e+02],\n",
       "        [ 7.36486287e+01,  8.37025093e+01, -1.03958095e+02,\n",
       "          1.14814084e+02,  6.02719958e+02,  1.37943899e+02,\n",
       "         -1.01514220e+02, -8.37539826e+01,  9.22637691e+01,\n",
       "         -4.29369289e+01,  4.42306648e+01, -2.78495012e+01,\n",
       "         -1.32475783e+01,  2.29159550e+00,  1.86952110e+01,\n",
       "          2.10485299e+01,  6.47002843e+01,  9.56993124e+00,\n",
       "         -9.33801537e+01, -4.07716113e+01],\n",
       "        [ 4.00716202e+01,  7.91393644e+01, -7.15874979e+01,\n",
       "         -9.00151808e+01,  1.37943899e+02,  6.68387548e+02,\n",
       "          1.46629830e+02, -1.26568813e+02,  8.61500285e+01,\n",
       "         -9.19753507e+01,  5.83384093e+01, -5.80656936e+01,\n",
       "         -2.52833152e+01,  1.97297055e+01,  8.28771787e+00,\n",
       "          1.57938275e+01,  5.16033376e+01,  1.54864147e+02,\n",
       "          1.18655364e+00,  2.33296355e+01],\n",
       "        [ 3.59263095e+01,  4.17798565e+01, -6.23391470e+01,\n",
       "         -6.64525080e+01, -1.01514220e+02,  1.46629830e+02,\n",
       "          7.51379149e+02,  1.79907126e+02,  1.32603313e+02,\n",
       "         -1.09171400e+02,  1.15243203e+02, -6.34672447e+01,\n",
       "         -4.04900149e+01, -2.78068993e+01, -8.59873998e+00,\n",
       "          8.26696863e+00,  7.69476027e+01,  5.92969357e+01,\n",
       "         -8.39866787e+01,  4.74077893e+01],\n",
       "        [ 1.72774691e+01,  3.01714266e+01, -3.31566420e+01,\n",
       "         -7.09088157e+01, -8.37539826e+01, -1.26568813e+02,\n",
       "          1.79907126e+02,  8.95490261e+02, -2.07284207e+02,\n",
       "         -1.63734022e+02,  1.26009374e+02, -1.14042155e+02,\n",
       "         -7.66341937e+01, -8.30150568e+01, -5.36629248e+01,\n",
       "          5.85269249e+01,  1.56989950e+00,  5.86967102e-02,\n",
       "         -3.99615169e+01, -1.35725118e+02],\n",
       "        [-3.89503022e+00, -1.31229400e+01,  3.52752839e+01,\n",
       "          4.68032749e+01,  9.22637691e+01,  8.61500285e+01,\n",
       "          1.32603313e+02, -2.07284207e+02,  1.07542155e+03,\n",
       "         -2.61278651e+02, -1.75294084e+02,  1.55708106e+02,\n",
       "          1.75030870e+02,  1.15993752e+02,  1.52887012e+02,\n",
       "         -6.54931028e+01,  9.17030568e+00,  3.36643184e+01,\n",
       "          2.48100025e+01,  1.08817161e+02],\n",
       "        [-5.71843972e-01,  7.91012796e+00, -2.50045065e+01,\n",
       "         -5.24580527e+01, -4.29369289e+01, -9.19753507e+01,\n",
       "         -1.09171400e+02, -1.63734022e+02, -2.61278651e+02,\n",
       "          1.36419027e+03, -3.33812899e+02, -2.51739044e+02,\n",
       "         -2.18036939e+02, -2.71562050e+02, -1.51289251e+02,\n",
       "          1.34376262e+02,  6.23791769e+01,  8.52897820e+00,\n",
       "         -4.82312937e+00,  1.32986856e+02],\n",
       "        [-7.68518519e+00, -1.03572960e+01,  2.23263119e+01,\n",
       "          1.67636481e+01,  4.42306648e+01,  5.83384093e+01,\n",
       "          1.15243203e+02,  1.26009374e+02, -1.75294084e+02,\n",
       "         -3.33812899e+02,  1.72616598e+03, -4.23116672e+02,\n",
       "          3.70674576e+02,  2.89909283e+02,  3.06149365e+02,\n",
       "         -1.87800136e+02, -2.13891616e+02, -1.38010711e+02,\n",
       "         -1.45006907e+02, -1.30920801e+02],\n",
       "        [ 1.75514045e+01,  2.75908588e+01,  1.74310262e+00,\n",
       "         -6.92417907e+00, -2.78495012e+01, -5.80656936e+01,\n",
       "         -6.34672447e+01, -1.14042155e+02,  1.55708106e+02,\n",
       "         -2.51739044e+02, -4.23116672e+02,  2.26337159e+03,\n",
       "          5.80956972e+02, -4.46293975e+02, -3.85588307e+02,\n",
       "          4.60712032e+02,  3.19079098e+02,  1.75354214e+02,\n",
       "         -6.96076734e+01,  2.63311937e+01],\n",
       "        [ 3.52120782e+01,  1.32929774e+01, -1.06301980e+01,\n",
       "         -6.59841290e+00, -1.32475783e+01, -2.52833152e+01,\n",
       "         -4.04900149e+01, -7.66341937e+01,  1.75030870e+02,\n",
       "         -2.18036939e+02,  3.70674576e+02,  5.80956972e+02,\n",
       "          3.19849907e+03,  8.45256020e+02, -6.60996095e+02,\n",
       "          6.08084613e+02,  5.62984796e+02,  3.61342504e+02,\n",
       "         -4.32807075e+02, -2.75692828e+02],\n",
       "        [-2.34884322e+00,  3.37258257e+01, -2.64118350e+01,\n",
       "         -1.86395334e+01,  2.29159550e+00,  1.97297055e+01,\n",
       "         -2.78068993e+01, -8.30150568e+01,  1.15993752e+02,\n",
       "         -2.71562050e+02,  2.89909283e+02, -4.46293975e+02,\n",
       "          8.45256020e+02,  4.60062253e+03,  1.21040953e+03,\n",
       "          8.74651648e+02,  8.20172079e+02,  1.03413477e+03,\n",
       "         -7.29470270e+02, -6.59458090e+02],\n",
       "        [ 6.29185220e+00,  8.17256254e+00, -4.86998436e+01,\n",
       "         -2.09446291e+01,  1.86952110e+01,  8.28771787e+00,\n",
       "         -8.59873998e+00, -5.36629248e+01,  1.52887012e+02,\n",
       "         -1.51289251e+02,  3.06149365e+02, -3.85588307e+02,\n",
       "         -6.60996095e+02,  1.21040953e+03,  7.06047217e+03,\n",
       "         -1.97656104e+03,  1.52839174e+03,  1.47194781e+03,\n",
       "         -1.65065299e+03, -6.65417786e+02],\n",
       "        [-1.80523232e+01, -1.93350085e+01, -4.73948322e+00,\n",
       "          1.16380533e+01,  2.10485299e+01,  1.57938275e+01,\n",
       "          8.26696863e+00,  5.85269249e+01, -6.54931028e+01,\n",
       "          1.34376262e+02, -1.87800136e+02,  4.60712032e+02,\n",
       "          6.08084613e+02,  8.74651648e+02, -1.97656104e+03,\n",
       "          1.09800828e+04,  3.00689854e+03, -2.51301479e+03,\n",
       "          1.91936380e+03,  1.46323709e+03],\n",
       "        [-2.46759413e+01, -1.37580919e+01, -3.85968692e+01,\n",
       "         -1.40246447e+01,  6.47002843e+01,  5.16033376e+01,\n",
       "          7.69476027e+01,  1.56989950e+00,  9.17030568e+00,\n",
       "          6.23791769e+01, -2.13891616e+02,  3.19079098e+02,\n",
       "          5.62984796e+02,  8.20172079e+02,  1.52839174e+03,\n",
       "          3.00689854e+03,  1.79322213e+04,  5.39163893e+03,\n",
       "          2.99391164e+03,  1.86956133e+03],\n",
       "        [ 4.83342422e+00,  3.55755385e+01,  8.29361334e+00,\n",
       "          9.70402488e+00,  9.56993124e+00,  1.54864147e+02,\n",
       "          5.92969357e+01,  5.86967102e-02,  3.36643184e+01,\n",
       "          8.52897820e+00, -1.38010711e+02,  1.75354214e+02,\n",
       "          3.61342504e+02,  1.03413477e+03,  1.47194781e+03,\n",
       "         -2.51301479e+03,  5.39163893e+03,  3.09369329e+04,\n",
       "         -9.98005484e+03,  2.20678837e+03],\n",
       "        [-1.03909768e+02, -2.09037552e+01, -2.92275215e+01,\n",
       "         -4.54641579e+01, -9.33801537e+01,  1.18655364e+00,\n",
       "         -8.39866787e+01, -3.99615169e+01,  2.48100025e+01,\n",
       "         -4.82312937e+00, -1.45006907e+02, -6.96076734e+01,\n",
       "         -4.32807075e+02, -7.29470270e+02, -1.65065299e+03,\n",
       "          1.91936380e+03,  2.99391164e+03, -9.98005484e+03,\n",
       "          5.24165953e+04,  1.82225174e+04],\n",
       "        [-2.78343826e+01, -8.84292628e+01, -1.48234864e+01,\n",
       "         -1.28563579e+02, -4.07716113e+01,  2.33296355e+01,\n",
       "          4.74077893e+01, -1.35725118e+02,  1.08817161e+02,\n",
       "          1.32986856e+02, -1.30920801e+02,  2.63311937e+01,\n",
       "         -2.75692828e+02, -6.59458090e+02, -6.65417786e+02,\n",
       "          1.46323709e+03,  1.86956133e+03,  2.20678837e+03,\n",
       "          1.82225174e+04,  7.84187700e+04]])"
      ]
     },
     "execution_count": 14,
     "metadata": {},
     "output_type": "execute_result"
    }
   ],
   "source": [
    "V_g_mess = np.matrix(np.diag(np.array(g_mess).reshape(-1)))\n",
    "V_b = np.linalg.inv(D)*np.linalg.inv(U)*V_g_mess*(np.linalg.inv(D)*np.linalg.inv(U)).T\n",
    "V_b"
   ]
  },
  {
   "cell_type": "markdown",
   "metadata": {},
   "source": [
    "Entfaltung:$$ b_{\\text{unf}} = D^{-1}U^{-1}g_{\\text{mess}}. $$"
   ]
  },
  {
   "cell_type": "code",
   "execution_count": 15,
   "metadata": {},
   "outputs": [
    {
     "data": {
      "text/plain": [
       "matrix([[-2251.04963295],\n",
       "        [ -690.91922954],\n",
       "        [ -466.52623091],\n",
       "        [ -342.23670464],\n",
       "        [ -329.3666805 ],\n",
       "        [ -179.20573364],\n",
       "        [ -160.66734023],\n",
       "        [  -77.26719097],\n",
       "        [   17.4191047 ],\n",
       "        [    2.55736399],\n",
       "        [   34.36919299],\n",
       "        [  -78.49226697],\n",
       "        [ -157.473201  ],\n",
       "        [   10.5043462 ],\n",
       "        [  -28.13801846],\n",
       "        [   80.73244377],\n",
       "        [  110.35416432],\n",
       "        [  -21.61573022],\n",
       "        [  464.69860952],\n",
       "        [  124.47914325]])"
      ]
     },
     "execution_count": 15,
     "metadata": {},
     "output_type": "execute_result"
    }
   ],
   "source": [
    "b_unf = np.linalg.inv(D)*np.linalg.inv(U)*g_mess\n",
    "b_unf"
   ]
  },
  {
   "cell_type": "code",
   "execution_count": 16,
   "metadata": {},
   "outputs": [],
   "source": [
    "b_unf_normed = np.array(b_unf).reshape(-1)/np.sqrt(np.diag(V_b))\n",
    "b_normed = np.array(b).reshape(-1)/np.sqrt(np.diag(V_b))"
   ]
  },
  {
   "cell_type": "markdown",
   "metadata": {},
   "source": [
    "Ab einem bestimmten $j$ fluktuieren die Koeffizienten $b_j$ zufällig um 0 mit der Standardabweichung 1.  \n",
    "Diese Werte bieten keinerlei Information und sollten in der Lösung nicht berücksichtigt werden, daher wird regularisiert.  \n",
    "**Regularisierung = Abschneiden dieser Eigenwerte**  \n",
    "Die Werte, die im folgenden Plot nicht deutlich über 1 liegen (etwa ab dem achten Wert), sind nicht groß gegenüber ihrer Unsicherheit und verzerren daher das Ergebnis."
   ]
  },
  {
   "cell_type": "code",
   "execution_count": 17,
   "metadata": {},
   "outputs": [
    {
     "data": {
      "text/plain": [
       "<matplotlib.legend.Legend at 0x11f7345c898>"
      ]
     },
     "execution_count": 17,
     "metadata": {},
     "output_type": "execute_result"
    },
    {
     "data": {
      "image/png": "[encoded data removed]",
      "text/plain": [
       "<Figure size 432x288 with 1 Axes>"
      ]
     },
     "metadata": {
      "needs_background": "light"
     },
     "output_type": "display_data"
    }
   ],
   "source": [
    "plt.hlines(1,-1,21, linestyle='dashed', alpha=.7)\n",
    "\n",
    "plt.plot(np.abs(b_normed), label='True')\n",
    "plt.plot(np.abs(b_unf_normed), 'rx', label='Unfolded')\n",
    "\n",
    "plt.yscale('log')\n",
    "plt.ylabel('Relative Aussagekraft')\n",
    "plt.xlabel('Rang des Eigenwerts')\n",
    "\n",
    "plt.legend()"
   ]
  },
  {
   "cell_type": "markdown",
   "metadata": {},
   "source": [
    "### e) Entfaltung mit und ohne Regularisierung"
   ]
  },
  {
   "cell_type": "code",
   "execution_count": 18,
   "metadata": {},
   "outputs": [
    {
     "data": {
      "text/plain": [
       "matrix([[-2251.04963295],\n",
       "        [ -690.91922954],\n",
       "        [ -466.52623091],\n",
       "        [ -342.23670464],\n",
       "        [ -329.3666805 ],\n",
       "        [ -179.20573364],\n",
       "        [ -160.66734023],\n",
       "        [    0.        ],\n",
       "        [    0.        ],\n",
       "        [    0.        ],\n",
       "        [    0.        ],\n",
       "        [    0.        ],\n",
       "        [    0.        ],\n",
       "        [    0.        ],\n",
       "        [    0.        ],\n",
       "        [    0.        ],\n",
       "        [    0.        ],\n",
       "        [    0.        ],\n",
       "        [    0.        ],\n",
       "        [    0.        ]])"
      ]
     },
     "execution_count": 18,
     "metadata": {},
     "output_type": "execute_result"
    }
   ],
   "source": [
    "b_unf_reg = np.matrix(  np.concatenate((np.array(b_unf[:7]).reshape(-1), np.zeros(13)))  ).reshape(-1,1)\n",
    "b_unf_reg"
   ]
  },
  {
   "cell_type": "code",
   "execution_count": 19,
   "metadata": {},
   "outputs": [],
   "source": [
    "f_unf = U*b_unf\n",
    "f_unf_reg = U*b_unf_reg"
   ]
  },
  {
   "cell_type": "code",
   "execution_count": 20,
   "metadata": {},
   "outputs": [],
   "source": [
    "V_b_reg = V_b\n",
    "for i in range(7,20):\n",
    "    V_b_reg[i,:] = 0\n",
    "for i in range(7,20):\n",
    "    V_b_reg[:,i] = 0\n",
    "#V_b_reg"
   ]
  },
  {
   "cell_type": "code",
   "execution_count": 21,
   "metadata": {},
   "outputs": [
    {
     "data": {
      "text/plain": [
       "array([16.17448155, 11.72641981, 13.84884219, 18.07469372, 17.32366962,\n",
       "       15.95334721, 17.34081922, 16.85837288, 14.93702478, 15.41637009,\n",
       "       15.26890669, 13.13071088, 13.06874324, 13.42921315, 11.37697928,\n",
       "       11.02456542, 11.95972796,  9.40449262,  8.30753103, 12.16934887])"
      ]
     },
     "execution_count": 21,
     "metadata": {},
     "output_type": "execute_result"
    }
   ],
   "source": [
    "V_f_reg = U*V_b_reg*U.T\n",
    "V_f_unf = U*V_b*U.T\n",
    "sigma_f_reg = np.sqrt(np.diag(V_f_reg))\n",
    "sigma_f_unf = np.sqrt(np.diag(V_f_unf))\n",
    "\n",
    "sigma_f_reg"
   ]
  },
  {
   "cell_type": "code",
   "execution_count": 22,
   "metadata": {},
   "outputs": [
    {
     "data": {
      "text/plain": [
       "Text(0.5, 0.98, 'Verteilung von f')"
      ]
     },
     "execution_count": 22,
     "metadata": {},
     "output_type": "execute_result"
    },
    {
     "data": {
      "image/png": "[encoded data removed]",
      "text/plain": [
       "<Figure size 432x288 with 1 Axes>"
      ]
     },
     "metadata": {
      "needs_background": "light"
     },
     "output_type": "display_data"
    }
   ],
   "source": [
    "plt.errorbar(x=range(20),y=np.array(f_unf).reshape(-1), yerr=sigma_f_unf, label='Unfolded', fmt='r.') #Die Fehler sind zu klein, kp warum\n",
    "plt.errorbar(x=range(20),y=np.array(f_unf_reg).reshape(-1), yerr=sigma_f_reg, label='Unfolded', fmt='b.')\n",
    "plt.plot(np.array(f).reshape(-1), label='True')\n",
    "plt.legend()\n",
    "plt.suptitle('Verteilung von f')"
   ]
  }
 ],
 "metadata": {
  "kernelspec": {
   "display_name": "Python 3",
   "language": "python",
   "name": "python3"
  },
  "language_info": {
   "codemirror_mode": {
    "name": "ipython",
    "version": 3
   },
   "file_extension": ".py",
   "mimetype": "text/x-python",
   "name": "python",
   "nbconvert_exporter": "python",
   "pygments_lexer": "ipython3",
   "version": "3.6.8"
  }
 },
 "nbformat": 4,
 "nbformat_minor": 2
}
